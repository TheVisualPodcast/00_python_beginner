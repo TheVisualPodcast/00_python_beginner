{
  "nbformat": 4,
  "nbformat_minor": 0,
  "metadata": {
    "colab": {
      "provenance": [],
      "collapsed_sections": [
        "oRVdk5Lqp4FP",
        "3XpjLgzEp8gr",
        "PG8baxuTrU3K",
        "3EnJ0y4JrW-z",
        "cjHYOUM4qpcy",
        "jeDNrIt6q2Hs",
        "58xzwwtZrlCS",
        "jsA_eWmOrmqK",
        "7ij2-CXjrq5S",
        "T9rZbR8wrsNK",
        "po5qO-oIqgZC",
        "ksYLpJJYq52E",
        "qmDJ310frwAK",
        "O9lBcOsErxD6",
        "OOiAccp1ryLS",
        "RrrxYq2jrzYy",
        "JndsXKpIqawz",
        "fTnX6Lopq-10",
        "eSmJmEK1uB3-",
        "cJbrOEL6uDYO",
        "vN75ruKYuE7G",
        "54_2FrszqUKD",
        "ymRShPgbrA0S",
        "Ju5YtjLir9S6",
        "b5VW80rXr-PS",
        "ZybhcA3sr_wS",
        "vrObsGvdqKsT",
        "yCmiKZQUrEC6",
        "TgRiud-PwobQ",
        "8S-0rjABqDdb",
        "GVteDDHOxQYj",
        "ReqKaTfApnEa",
        "PeAgG9tMxVyz"
      ]
    },
    "kernelspec": {
      "name": "python3",
      "display_name": "Python 3"
    },
    "language_info": {
      "name": "python"
    }
  },
  "cells": [
    {
      "cell_type": "markdown",
      "source": [
        "# Mastering String Manipulation in Python: From Basics to Advanced Techniques\n"
      ],
      "metadata": {
        "id": "_58_WMx0poxP"
      }
    },
    {
      "cell_type": "markdown",
      "source": [
        "## String Basics:\n",
        "What is a string? A string is a sequence of characters. It is one of the most fundamental data types in Python and is used to represent text.\n",
        "Strings are enclosed in either single quotes (' ') or double quotes (\" \").\n",
        "Why do we need strings?  Strings are essential for working with text data in Python. They allow us to store, manipulate, and display text in our programs."
      ],
      "metadata": {
        "id": "oRVdk5Lqp4FP"
      }
    },
    {
      "cell_type": "markdown",
      "source": [
        "### String Data Types:\n",
        "In Python, strings are immutable, meaning they cannot be changed once created.\n",
        "### String Literals:\n",
        "String literals are how we represent strings in our code. They are enclosed in quotes.\n",
        "```python\n",
        "my_string = \"Hello, world!\"\n",
        "```"
      ],
      "metadata": {
        "id": "3XpjLgzEp8gr"
      }
    },
    {
      "cell_type": "code",
      "source": [
        "my_string = \"Hello, world!\""
      ],
      "metadata": {
        "id": "7PB_VRkLsLIV"
      },
      "execution_count": null,
      "outputs": []
    },
    {
      "cell_type": "markdown",
      "source": [
        "\n",
        "### Accessing String Characters:\n",
        "You can access individual characters in a string using indexing. Indexing starts from 0 for the first character.\n",
        "```python\n",
        "my_string = \"Hello, world!\"\n",
        "print(my_string[0]) # H\n",
        "print(my_string[6]) # ,\n",
        "```"
      ],
      "metadata": {
        "id": "PG8baxuTrU3K"
      }
    },
    {
      "cell_type": "code",
      "source": [
        "my_string = \"Hello, world!\""
      ],
      "metadata": {
        "id": "wAhKadEUsQGl"
      },
      "execution_count": null,
      "outputs": []
    },
    {
      "cell_type": "code",
      "source": [
        "print(my_string[0]) # H"
      ],
      "metadata": {
        "id": "CRQHit0KsScp"
      },
      "execution_count": null,
      "outputs": []
    },
    {
      "cell_type": "code",
      "source": [
        "print(my_string[6]) # ,"
      ],
      "metadata": {
        "id": "cNDVrqPUsVu0"
      },
      "execution_count": null,
      "outputs": []
    },
    {
      "cell_type": "markdown",
      "source": [
        "\n",
        "### Slicing Strings:\n",
        "Slicing allows you to extract a portion of a string. You use square brackets with a start index, an end index (exclusive), and an optional step.\n",
        "```python\n",
        "my_string = \"Hello, world!\"\n",
        "print(my_string[0:5]) # Hello\n",
        "print(my_string[7:]) # world!\n",
        "print(my_string[::2]) # Hlo ol!\n",
        "```"
      ],
      "metadata": {
        "id": "3EnJ0y4JrW-z"
      }
    },
    {
      "cell_type": "code",
      "source": [
        "my_string = \"Hello, world!\"\n"
      ],
      "metadata": {
        "id": "LagaTIXdsYet"
      },
      "execution_count": null,
      "outputs": []
    },
    {
      "cell_type": "code",
      "source": [
        "print(my_string[0:5]) # Hello\n"
      ],
      "metadata": {
        "id": "qMjSSkossbei"
      },
      "execution_count": null,
      "outputs": []
    },
    {
      "cell_type": "code",
      "source": [
        "print(my_string[7:]) # world!\n"
      ],
      "metadata": {
        "id": "sbPlCC0-scdq"
      },
      "execution_count": null,
      "outputs": []
    },
    {
      "cell_type": "code",
      "source": [
        "print(my_string[::2]) # Hlo ol!"
      ],
      "metadata": {
        "id": "7zqQlEp3sdXC"
      },
      "execution_count": null,
      "outputs": []
    },
    {
      "cell_type": "markdown",
      "source": [
        "\n",
        "## String Manipulation:"
      ],
      "metadata": {
        "id": "cjHYOUM4qpcy"
      }
    },
    {
      "cell_type": "markdown",
      "source": [
        "\n",
        "### Changing Case in a String with Methods:\n",
        "Python provides several built-in methods for changing the case of a string.\n",
        "* **`upper()`:** Converts all characters to uppercase.\n",
        "* **`lower()`:** Converts all characters to lowercase.\n",
        "* **`title()`:** Capitalizes the first letter of each word.\n",
        "* **`capitalize()`:** Capitalizes the first letter of the entire string.\n",
        "```python\n",
        "my_string = \"hello, world!\"\n",
        "print(my_string.upper()) # HELLO, WORLD!\n",
        "print(my_string.lower()) # hello, world!\n",
        "print(my_string.title()) # Hello, World!\n",
        "print(my_string.capitalize()) # Hello, world!\n",
        "```"
      ],
      "metadata": {
        "id": "jeDNrIt6q2Hs"
      }
    },
    {
      "cell_type": "code",
      "source": [
        "my_string = \"hello, world!\"\n"
      ],
      "metadata": {
        "id": "6hxlhHnesuvN"
      },
      "execution_count": null,
      "outputs": []
    },
    {
      "cell_type": "code",
      "source": [
        "print(my_string.upper()) # HELLO, WORLD!\n"
      ],
      "metadata": {
        "id": "lc70wqZ4s3Bi"
      },
      "execution_count": null,
      "outputs": []
    },
    {
      "cell_type": "code",
      "source": [
        "print(my_string.lower()) # hello, world!\n"
      ],
      "metadata": {
        "id": "uIXsPfggs5-q"
      },
      "execution_count": null,
      "outputs": []
    },
    {
      "cell_type": "code",
      "source": [
        "print(my_string.title()) # Hello, World!\n"
      ],
      "metadata": {
        "id": "dbDCTQjAs6gC"
      },
      "execution_count": null,
      "outputs": []
    },
    {
      "cell_type": "code",
      "source": [
        "print(my_string.capitalize()) # Hello, world!"
      ],
      "metadata": {
        "id": "4_7Djkxis7ly"
      },
      "execution_count": null,
      "outputs": []
    },
    {
      "cell_type": "markdown",
      "source": [
        "\n",
        "### Using Variables in Strings:\n",
        "You can use f-strings (formatted string literals) to easily embed variables into strings.\n",
        "```python\n",
        "first_name = \"John\"\n",
        "last_name = \"Doe\"\n",
        "full_name = f\"My name is {first_name} {last_name}.\"\n",
        "print(full_name) # My name is John Doe.\n",
        "```"
      ],
      "metadata": {
        "id": "58xzwwtZrlCS"
      }
    },
    {
      "cell_type": "code",
      "source": [
        "first_name = \"John\""
      ],
      "metadata": {
        "id": "EPaXu0frs-Ta"
      },
      "execution_count": null,
      "outputs": []
    },
    {
      "cell_type": "code",
      "source": [
        "last_name = \"Doe\"\n"
      ],
      "metadata": {
        "id": "HjmW2WbPs_ZC"
      },
      "execution_count": null,
      "outputs": []
    },
    {
      "cell_type": "code",
      "source": [
        "full_name = f\"My name is {first_name} {last_name}.\"\n"
      ],
      "metadata": {
        "id": "16Z3qk0rtAuC"
      },
      "execution_count": null,
      "outputs": []
    },
    {
      "cell_type": "code",
      "source": [
        "print(full_name) # My name is John Doe."
      ],
      "metadata": {
        "id": "pmxLTr9utDM6"
      },
      "execution_count": null,
      "outputs": []
    },
    {
      "cell_type": "markdown",
      "source": [
        "\n",
        "### Adding Whitespace to Strings with Tabs or Newlines:\n",
        "* **`\\t`:** Inserts a tab character.\n",
        "* **`\\n`:** Inserts a newline character.\n",
        "```python\n",
        "print(\"Hello,\\tworld!\")\n",
        "# Hello, world!\n",
        "print(\"Line 1\\nLine 2\")\n",
        "# Line 1\n",
        "# Line 2\n",
        "```"
      ],
      "metadata": {
        "id": "jsA_eWmOrmqK"
      }
    },
    {
      "cell_type": "code",
      "source": [
        "print(\"Hello,\\tworld!\")\n",
        "# Hello, world!"
      ],
      "metadata": {
        "id": "YVCDQAcwtKG0"
      },
      "execution_count": null,
      "outputs": []
    },
    {
      "cell_type": "code",
      "source": [
        "print(\"Line 1\\nLine 2\")\n",
        "# Line 1\n",
        "# Line 2"
      ],
      "metadata": {
        "id": "lOpWHmZdtNhK"
      },
      "execution_count": null,
      "outputs": []
    },
    {
      "cell_type": "markdown",
      "source": [
        "\n",
        "### Stripping Whitespace:\n",
        "* **`strip()`:** Removes leading and trailing whitespace.\n",
        "* **`lstrip()`:** Removes leading whitespace.\n",
        "* **`rstrip()`:** Removes trailing whitespace.\n",
        "```python\n",
        "my_string = \"  Hello, world!  \"\n",
        "print(my_string.strip()) # Hello, world!\n",
        "print(my_string.lstrip()) # Hello, world!  \n",
        "print(my_string.rstrip()) #   Hello, world!\n",
        "```"
      ],
      "metadata": {
        "id": "7ij2-CXjrq5S"
      }
    },
    {
      "cell_type": "code",
      "source": [
        "my_string = \"  Hello, world!  \"\n"
      ],
      "metadata": {
        "id": "XyQkFVkatRIw"
      },
      "execution_count": null,
      "outputs": []
    },
    {
      "cell_type": "code",
      "source": [
        "print(my_string.strip()) # Hello, world!\n"
      ],
      "metadata": {
        "id": "c0LLxRL5tUBC"
      },
      "execution_count": null,
      "outputs": []
    },
    {
      "cell_type": "code",
      "source": [
        "print(my_string.lstrip()) # Hello, world!\n"
      ],
      "metadata": {
        "id": "Y67Jqlm0tUeq"
      },
      "execution_count": null,
      "outputs": []
    },
    {
      "cell_type": "code",
      "source": [
        "print(my_string.rstrip()) #   Hello, world!"
      ],
      "metadata": {
        "id": "fL-luuKItU5a"
      },
      "execution_count": null,
      "outputs": []
    },
    {
      "cell_type": "markdown",
      "source": [
        "\n",
        "### Avoiding Syntax Errors with String:\n",
        "* **Escape sequences:**  Use backslashes to escape special characters like single quotes, double quotes, and newlines.\n",
        "```python\n",
        "print(\"This string contains a single quote: '\")\n",
        "print(\"This string contains a double quote: \\\"\")\n",
        "print(\"This string contains a newline: \\n\")\n",
        "```\n"
      ],
      "metadata": {
        "id": "T9rZbR8wrsNK"
      }
    },
    {
      "cell_type": "code",
      "source": [
        "print(\"This string contains a single quote: '\")\n"
      ],
      "metadata": {
        "id": "lOkUsFqEtWsI"
      },
      "execution_count": null,
      "outputs": []
    },
    {
      "cell_type": "code",
      "source": [
        "print(\"This string contains a double quote: \\\"\")\n"
      ],
      "metadata": {
        "id": "75X8EauqtYga"
      },
      "execution_count": null,
      "outputs": []
    },
    {
      "cell_type": "code",
      "source": [
        "print(\"This string contains a newline: \\n\")"
      ],
      "metadata": {
        "id": "co-5sQ-rtYwi"
      },
      "execution_count": null,
      "outputs": []
    },
    {
      "cell_type": "markdown",
      "source": [
        "## String Methods:"
      ],
      "metadata": {
        "id": "po5qO-oIqgZC"
      }
    },
    {
      "cell_type": "markdown",
      "source": [
        "### Common String Methods:\n",
        "* **`len(string)`:** Returns the length of the string.\n",
        "* **`find(substring)`:** Returns the starting index of the first occurrence of a substring.\n",
        "* **`count(substring)`:** Returns the number of occurrences of a substring.\n",
        "* **`replace(old, new)`:** Replaces all occurrences of an old substring with a new substring.\n",
        "* **`split(separator)`:** Splits a string into a list of substrings based on a separator.\n",
        "* **`join(list)`:** Joins a list of strings into a single string using a specified separator.\n",
        "```python\n",
        "my_string = \"Hello, world!\"\n",
        "print(len(my_string)) # 13\n",
        "print(my_string.find(\"world\")) # 7\n",
        "print(my_string.count(\"l\")) # 3\n",
        "print(my_string.replace(\"world\", \"Python\")) # Hello, Python!\n",
        "print(my_string.split(\", \")) # ['Hello', 'world!']\n",
        "print(\", \".join([\"Hello\", \"world!\"])) # Hello, world!\n",
        "```"
      ],
      "metadata": {
        "id": "ksYLpJJYq52E"
      }
    },
    {
      "cell_type": "code",
      "source": [
        "my_string = \"Hello, world!\"\n"
      ],
      "metadata": {
        "id": "ofxUZmHLtbOp"
      },
      "execution_count": null,
      "outputs": []
    },
    {
      "cell_type": "code",
      "source": [
        "print(len(my_string)) # 13\n"
      ],
      "metadata": {
        "id": "-v8_QX1mtcXi"
      },
      "execution_count": null,
      "outputs": []
    },
    {
      "cell_type": "code",
      "source": [
        "print(my_string.find(\"world\")) # 7\n"
      ],
      "metadata": {
        "id": "0hQC1wcdtczS"
      },
      "execution_count": null,
      "outputs": []
    },
    {
      "cell_type": "code",
      "source": [
        "print(my_string.count(\"l\")) # 3\n"
      ],
      "metadata": {
        "id": "7Z1UA1hPtd7q"
      },
      "execution_count": null,
      "outputs": []
    },
    {
      "cell_type": "code",
      "source": [
        "print(my_string.replace(\"world\", \"Python\")) # Hello, Python!\n"
      ],
      "metadata": {
        "id": "Cz4H2jkmteRK"
      },
      "execution_count": null,
      "outputs": []
    },
    {
      "cell_type": "code",
      "source": [
        "print(my_string.split(\", \")) # ['Hello', 'world!']\n"
      ],
      "metadata": {
        "id": "j8tDO7rStegi"
      },
      "execution_count": null,
      "outputs": []
    },
    {
      "cell_type": "code",
      "source": [
        "print(\", \".join([\"Hello\", \"world!\"])) # Hello, world!"
      ],
      "metadata": {
        "id": "eWEjNq5Uteyi"
      },
      "execution_count": null,
      "outputs": []
    },
    {
      "cell_type": "markdown",
      "source": [
        "\n",
        "### Finding Substrings:\n",
        "* **`in` operator:** Checks if a substring is present in a string.\n",
        "* **`not in` operator:** Checks if a substring is not present in a string.\n",
        "```python\n",
        "my_string = \"Hello, world!\"\n",
        "print(\"world\" in my_string) # True\n",
        "print(\"Python\" not in my_string) # True\n",
        "```"
      ],
      "metadata": {
        "id": "qmDJ310frwAK"
      }
    },
    {
      "cell_type": "code",
      "source": [
        "my_string = \"Hello, world!\""
      ],
      "metadata": {
        "id": "ReJPYcttthHO"
      },
      "execution_count": null,
      "outputs": []
    },
    {
      "cell_type": "code",
      "source": [
        "print(\"world\" in my_string) # True\n"
      ],
      "metadata": {
        "id": "BAxBoS5JtiCV"
      },
      "execution_count": null,
      "outputs": []
    },
    {
      "cell_type": "code",
      "source": [
        "print(\"Python\" not in my_string) # True"
      ],
      "metadata": {
        "id": "RIHqIf7zti_a"
      },
      "execution_count": null,
      "outputs": []
    },
    {
      "cell_type": "markdown",
      "source": [
        "\n",
        "### Replacing Substrings:\n",
        "* **`replace()` method:** Replaces all occurrences of an old substring with a new substring.\n",
        "```python\n",
        "my_string = \"Hello, world!\"\n",
        "print(my_string.replace(\"world\", \"Python\")) # Hello, Python!\n",
        "```"
      ],
      "metadata": {
        "id": "O9lBcOsErxD6"
      }
    },
    {
      "cell_type": "code",
      "source": [
        "my_string = \"Hello, world!\"\n"
      ],
      "metadata": {
        "id": "Ful6flLVtksG"
      },
      "execution_count": null,
      "outputs": []
    },
    {
      "cell_type": "code",
      "source": [
        "print(my_string.replace(\"world\", \"Python\")) # Hello, Python!"
      ],
      "metadata": {
        "id": "7o_K-UZ-tmaa"
      },
      "execution_count": null,
      "outputs": []
    },
    {
      "cell_type": "markdown",
      "source": [
        "\n",
        "### Splitting and Joining Strings:\n",
        "* **`split()` method:** Splits a string into a list of substrings based on a separator.\n",
        "* **`join()` method:** Joins a list of strings into a single string using a specified separator.\n",
        "```python\n",
        "my_string = \"Hello, world!\"\n",
        "print(my_string.split(\", \")) # ['Hello', 'world!']\n",
        "print(\", \".join([\"Hello\", \"world!\"])) # Hello, world!\n",
        "```"
      ],
      "metadata": {
        "id": "OOiAccp1ryLS"
      }
    },
    {
      "cell_type": "code",
      "source": [
        "my_string = \"Hello, world!\"\n"
      ],
      "metadata": {
        "id": "2LYNxki-toXN"
      },
      "execution_count": null,
      "outputs": []
    },
    {
      "cell_type": "code",
      "source": [
        "print(my_string.split(\", \")) # ['Hello', 'world!']\n"
      ],
      "metadata": {
        "id": "aNLU9oxttqXC"
      },
      "execution_count": null,
      "outputs": []
    },
    {
      "cell_type": "code",
      "source": [
        "print(\", \".join([\"Hello\", \"world!\"])) # Hello, world!"
      ],
      "metadata": {
        "id": "b4L0YMOYtsuS"
      },
      "execution_count": null,
      "outputs": []
    },
    {
      "cell_type": "code",
      "source": [],
      "metadata": {
        "id": "x5DtI9ZUtoSK"
      },
      "execution_count": null,
      "outputs": []
    },
    {
      "cell_type": "markdown",
      "source": [
        "\n",
        "### Formatting Strings:\n",
        "* **f-strings (formatted string literals):**  Allow you to embed variables and expressions directly into strings.\n",
        "* **`format()` method:**  Provides more control over string formatting.\n",
        "```python\n",
        "name = \"John\"\n",
        "age = 30\n",
        "print(f\"My name is {name} and I am {age} years old.\") # My name is John and I am 30 years old.\n",
        "print(\"My name is {} and I am {} years old.\".format(name, age)) # My name is John and I am 30 years old.\n",
        "```"
      ],
      "metadata": {
        "id": "RrrxYq2jrzYy"
      }
    },
    {
      "cell_type": "code",
      "source": [
        "name = \"John\"\n"
      ],
      "metadata": {
        "id": "xCfTRjnat6Qi"
      },
      "execution_count": null,
      "outputs": []
    },
    {
      "cell_type": "code",
      "source": [
        "age = 30\n"
      ],
      "metadata": {
        "id": "xbr7p_gVt90K"
      },
      "execution_count": null,
      "outputs": []
    },
    {
      "cell_type": "code",
      "source": [
        "print(f\"My name is {name} and I am {age} years old.\") # My name is John and I am 30 years old.\n"
      ],
      "metadata": {
        "id": "hNuXLf4Rt-d-"
      },
      "execution_count": null,
      "outputs": []
    },
    {
      "cell_type": "code",
      "source": [
        "print(\"My name is {} and I am {} years old.\".format(name, age)) # My name is John and I am 30 years old."
      ],
      "metadata": {
        "id": "HiF2z6_It_R2"
      },
      "execution_count": null,
      "outputs": []
    },
    {
      "cell_type": "markdown",
      "source": [
        "\n",
        "## Working with Strings:"
      ],
      "metadata": {
        "id": "JndsXKpIqawz"
      }
    },
    {
      "cell_type": "markdown",
      "source": [
        "\n",
        "### String Concatenation:\n",
        "* **`+` operator:** Joins two strings together.\n",
        "```python\n",
        "first_name = \"John\"\n",
        "last_name = \"Doe\"\n",
        "full_name = first_name + \" \" + last_name\n",
        "print(full_name) # John Doe\n",
        "```"
      ],
      "metadata": {
        "id": "fTnX6Lopq-10"
      }
    },
    {
      "cell_type": "code",
      "source": [
        "first_name = \"John\"\n"
      ],
      "metadata": {
        "id": "oTNb9VkhvT5A"
      },
      "execution_count": null,
      "outputs": []
    },
    {
      "cell_type": "code",
      "source": [
        "last_name = \"Doe\"\n"
      ],
      "metadata": {
        "id": "Oz0q2tnCvcpp"
      },
      "execution_count": null,
      "outputs": []
    },
    {
      "cell_type": "code",
      "source": [
        "full_name = first_name + \" \" + last_name\n"
      ],
      "metadata": {
        "id": "lGy1OdIPvdqB"
      },
      "execution_count": null,
      "outputs": []
    },
    {
      "cell_type": "code",
      "source": [
        "print(full_name) # John Doe"
      ],
      "metadata": {
        "id": "TB0BYjB7vebZ"
      },
      "execution_count": null,
      "outputs": []
    },
    {
      "cell_type": "markdown",
      "source": [
        "\n",
        "### String Formatting:\n",
        "* **`format()` method:**  Provides more control over string formatting.\n",
        "* **f-strings (formatted string literals):** Allow you to embed variables and expressions directly into strings.\n",
        "```python\n",
        "name = \"John\"\n",
        "age = 30\n",
        "print(\"My name is {} and I am {} years old.\".format(name, age)) # My name is John and I am 30 years old.\n",
        "print(f\"My name is {name} and I am {age} years old.\") # My name is John and I am 30 years old.\n",
        "```"
      ],
      "metadata": {
        "id": "eSmJmEK1uB3-"
      }
    },
    {
      "cell_type": "code",
      "source": [
        "name = \"John\"\n"
      ],
      "metadata": {
        "id": "L03a8UiivhBz"
      },
      "execution_count": null,
      "outputs": []
    },
    {
      "cell_type": "code",
      "source": [
        "age = 30\n"
      ],
      "metadata": {
        "id": "QSZ_zcgjvjhx"
      },
      "execution_count": null,
      "outputs": []
    },
    {
      "cell_type": "code",
      "source": [
        "print(\"My name is {} and I am {} years old.\".format(name, age)) # My name is John and I am 30 years old.\n"
      ],
      "metadata": {
        "id": "NL_FLPNnvj6J"
      },
      "execution_count": null,
      "outputs": []
    },
    {
      "cell_type": "code",
      "source": [
        "print(f\"My name is {name} and I am {age} years old.\") # My name is John and I am 30 years old."
      ],
      "metadata": {
        "id": "AsaB8nkovkLp"
      },
      "execution_count": null,
      "outputs": []
    },
    {
      "cell_type": "markdown",
      "source": [
        "\n",
        "### String Comparisons:\n",
        "* **`==` operator:** Checks if two strings are equal.\n",
        "* **`!=` operator:** Checks if two strings are not equal.\n",
        "* **`<`, `>`, `<=`, `>=` operators:**  Compare strings lexicographically.\n",
        "```python\n",
        "string1 = \"Hello\"\n",
        "string2 = \"hello\"\n",
        "print(string1 == string2) # False\n",
        "print(string1 != string2) # True\n",
        "print(string1 < string2) # False\n",
        "print(string1 > string2) # True\n",
        "```"
      ],
      "metadata": {
        "id": "cJbrOEL6uDYO"
      }
    },
    {
      "cell_type": "code",
      "source": [
        "string1 = \"Hello\"\n"
      ],
      "metadata": {
        "id": "6mORyC-wvpsk"
      },
      "execution_count": null,
      "outputs": []
    },
    {
      "cell_type": "code",
      "source": [
        "string2 = \"hello\"\n"
      ],
      "metadata": {
        "id": "jq-LlO5lvsYR"
      },
      "execution_count": null,
      "outputs": []
    },
    {
      "cell_type": "code",
      "source": [
        "print(string1 == string2) # False\n"
      ],
      "metadata": {
        "id": "SwEKpOUrvstp"
      },
      "execution_count": null,
      "outputs": []
    },
    {
      "cell_type": "code",
      "source": [
        "print(string1 != string2) # True\n"
      ],
      "metadata": {
        "id": "x9-xO8wBvs-p"
      },
      "execution_count": null,
      "outputs": []
    },
    {
      "cell_type": "code",
      "source": [
        "print(string1 < string2) # False\n"
      ],
      "metadata": {
        "id": "gnG8BJdgvtSB"
      },
      "execution_count": null,
      "outputs": []
    },
    {
      "cell_type": "code",
      "source": [
        "print(string1 > string2) # True"
      ],
      "metadata": {
        "id": "lGyH6L_Evtox"
      },
      "execution_count": null,
      "outputs": []
    },
    {
      "cell_type": "markdown",
      "source": [
        "\n",
        "### String Indexing and Slicing:\n",
        "* **Indexing:** Access individual characters in a string.\n",
        "* **Slicing:** Extract portions of a string.\n",
        "```python\n",
        "my_string = \"Hello, world!\"\n",
        "print(my_string[0]) # H\n",
        "print(my_string[6]) # ,\n",
        "print(my_string[0:5]) # Hello\n",
        "print(my_string[7:]) # world!\n",
        "print(my_string[::2]) # Hlo ol!\n",
        "```"
      ],
      "metadata": {
        "id": "vN75ruKYuE7G"
      }
    },
    {
      "cell_type": "code",
      "source": [
        "my_string = \"Hello, world!\"\n"
      ],
      "metadata": {
        "id": "EN4CxCtovvg7"
      },
      "execution_count": null,
      "outputs": []
    },
    {
      "cell_type": "code",
      "source": [
        "print(my_string[0]) # H\n"
      ],
      "metadata": {
        "id": "7W3LZp95vyd5"
      },
      "execution_count": null,
      "outputs": []
    },
    {
      "cell_type": "code",
      "source": [
        "print(my_string[6]) # ,\n"
      ],
      "metadata": {
        "id": "7k1gYZ7ZvyyR"
      },
      "execution_count": null,
      "outputs": []
    },
    {
      "cell_type": "code",
      "source": [
        "print(my_string[0:5]) # Hello\n"
      ],
      "metadata": {
        "id": "nwe39OJivzDx"
      },
      "execution_count": null,
      "outputs": []
    },
    {
      "cell_type": "code",
      "source": [
        "print(my_string[7:]) # world!\n"
      ],
      "metadata": {
        "id": "hyKUlfi0vzUx"
      },
      "execution_count": null,
      "outputs": []
    },
    {
      "cell_type": "code",
      "source": [
        "print(my_string[::2]) # Hlo ol!"
      ],
      "metadata": {
        "id": "ofeo3bVXv0GL"
      },
      "execution_count": null,
      "outputs": []
    },
    {
      "cell_type": "markdown",
      "source": [
        "\n",
        "## Advanced String Techniques:"
      ],
      "metadata": {
        "id": "54_2FrszqUKD"
      }
    },
    {
      "cell_type": "markdown",
      "source": [
        "\n",
        "### Regular Expressions:\n",
        "Regular expressions (regex) are powerful tools for pattern matching in strings.\n",
        "```python\n",
        "import re\n",
        "\n",
        "text = \"The quick brown fox jumps over the lazy dog.\"\n",
        "match = re.search(r\"fox\", text)\n",
        "if match:\n",
        "    print(f\"Found 'fox' at index {match.start()}\") # Found 'fox' at index 16\n",
        "```"
      ],
      "metadata": {
        "id": "ymRShPgbrA0S"
      }
    },
    {
      "cell_type": "code",
      "source": [
        "import re\n",
        "\n",
        "text = \"The quick brown fox jumps over the lazy dog.\""
      ],
      "metadata": {
        "id": "Tm48j7NKv2jA"
      },
      "execution_count": null,
      "outputs": []
    },
    {
      "cell_type": "code",
      "source": [
        "match = re.search(r\"fox\", text)\n"
      ],
      "metadata": {
        "id": "qkAo-HB2v8XL"
      },
      "execution_count": null,
      "outputs": []
    },
    {
      "cell_type": "code",
      "source": [
        "if match:\n",
        "    print(f\"Found 'fox' at index {match.start()}\") # Found 'fox' at index 16"
      ],
      "metadata": {
        "id": "eNdfKkxhv9uD"
      },
      "execution_count": null,
      "outputs": []
    },
    {
      "cell_type": "markdown",
      "source": [
        "\n",
        "### String Encoding and Decoding:\n",
        "* **`encode()` method:** Converts a string to a byte sequence using a specified encoding.\n",
        "* **`decode()` method:** Converts a byte sequence to a string using a specified encoding.\n",
        "```python\n",
        "my_string = \"Hello, world!\"\n",
        "encoded_string = my_string.encode(\"utf-8\")\n",
        "decoded_string = encoded_string.decode(\"utf-8\")\n",
        "print(decoded_string) # Hello, world!\n",
        "```"
      ],
      "metadata": {
        "id": "Ju5YtjLir9S6"
      }
    },
    {
      "cell_type": "code",
      "source": [
        "my_string = \"Hello, world!\""
      ],
      "metadata": {
        "id": "X3Y8yfFRwEWg"
      },
      "execution_count": null,
      "outputs": []
    },
    {
      "cell_type": "code",
      "source": [
        "encoded_string = my_string.encode(\"utf-8\")\n"
      ],
      "metadata": {
        "id": "h1v4t1RVwJOI"
      },
      "execution_count": null,
      "outputs": []
    },
    {
      "cell_type": "code",
      "source": [
        "decoded_string = encoded_string.decode(\"utf-8\")\n"
      ],
      "metadata": {
        "id": "BvNmLJ9_wJ4I"
      },
      "execution_count": null,
      "outputs": []
    },
    {
      "cell_type": "code",
      "source": [
        "print(decoded_string) # Hello, world!"
      ],
      "metadata": {
        "id": "6NbJ7jR9wKQ4"
      },
      "execution_count": null,
      "outputs": []
    },
    {
      "cell_type": "markdown",
      "source": [
        "\n",
        "### String Interpolation:\n",
        "* **f-strings (formatted string literals):**  Allow you to embed variables and expressions directly into strings.\n",
        "```python\n",
        "name = \"John\"\n",
        "age = 30\n",
        "print(f\"My name is {name} and I am {age} years old.\") # My name is John and I am 30 years old.\n",
        "```"
      ],
      "metadata": {
        "id": "b5VW80rXr-PS"
      }
    },
    {
      "cell_type": "code",
      "source": [
        "name = \"John\"\n"
      ],
      "metadata": {
        "id": "vb1XMB8NwNAl"
      },
      "execution_count": null,
      "outputs": []
    },
    {
      "cell_type": "code",
      "source": [
        "age = 30\n"
      ],
      "metadata": {
        "id": "iD5D5h4VwOZY"
      },
      "execution_count": null,
      "outputs": []
    },
    {
      "cell_type": "code",
      "source": [
        "print(f\"My name is {name} and I am {age} years old.\") # My name is John and I am 30 years old."
      ],
      "metadata": {
        "id": "SlxN67XSwO0A"
      },
      "execution_count": null,
      "outputs": []
    },
    {
      "cell_type": "markdown",
      "source": [
        "\n",
        "### Working with Unicode Strings:\n",
        "* **Unicode:**  A standard for representing characters from different languages and scripts.\n",
        "```python\n",
        "my_string = \"你好，世界！\"\n",
        "print(my_string) # 你好，世界！\n",
        "```"
      ],
      "metadata": {
        "id": "ZybhcA3sr_wS"
      }
    },
    {
      "cell_type": "code",
      "source": [
        "my_string = \"你好，世界！\"\n"
      ],
      "metadata": {
        "id": "1r-WljXfwQuP"
      },
      "execution_count": null,
      "outputs": []
    },
    {
      "cell_type": "code",
      "source": [
        "print(my_string) # 你好，世界！"
      ],
      "metadata": {
        "id": "w1XAPHYnwSJx"
      },
      "execution_count": null,
      "outputs": []
    },
    {
      "cell_type": "markdown",
      "source": [
        "\n",
        "## Comments:"
      ],
      "metadata": {
        "id": "vrObsGvdqKsT"
      }
    },
    {
      "cell_type": "markdown",
      "source": [
        "\n",
        "### Importance of Comments:\n",
        "Comments are essential for making your code readable and understandable. They explain what your code does and why it's written that way."
      ],
      "metadata": {
        "id": "yCmiKZQUrEC6"
      }
    },
    {
      "cell_type": "markdown",
      "source": [
        "\n",
        "### Types of Comments:\n",
        "* **Single-line comments:** Start with a hash symbol (#).\n",
        "* **Multi-line comments:**  Enclosed in triple quotes (''' ''' or \"\"\" \"\"\").\n",
        "### Best Practices for Comments:\n",
        "* Keep comments concise and informative.\n",
        "* Explain the purpose of code blocks and complex logic.\n",
        "* Update comments when you change the code.\n"
      ],
      "metadata": {
        "id": "TgRiud-PwobQ"
      }
    },
    {
      "cell_type": "code",
      "source": [
        "#This is single line comment."
      ],
      "metadata": {
        "id": "7LB9o6bRwX6G"
      },
      "execution_count": null,
      "outputs": []
    },
    {
      "cell_type": "code",
      "source": [
        "\"\"\"\n",
        "This is a multi line comment.\n",
        "here is the second line.\n",
        "...\n",
        "... so on..\n",
        "\"\"\""
      ],
      "metadata": {
        "id": "Dxn_NuIEwwcq"
      },
      "execution_count": null,
      "outputs": []
    },
    {
      "cell_type": "markdown",
      "source": [
        "\n",
        "## Let's begin with the coding Section:"
      ],
      "metadata": {
        "id": "8S-0rjABqDdb"
      }
    },
    {
      "cell_type": "markdown",
      "source": [
        "\n",
        "```python\n",
        "# Beginner Level:\n",
        "my_string = \"Hello, world!\"\n",
        "print(my_string.upper())  # HELLO, WORLD!\n",
        "print(my_string.lower())  # hello, world!\n",
        "print(my_string.title())  # Hello, World!\n",
        "\n",
        "# Graduate Level:\n",
        "first_name = \"John\"\n",
        "last_name = \"Doe\"\n",
        "full_name = f\"My name is {first_name} {last_name}.\"\n",
        "print(full_name)  # My name is John Doe.\n",
        "\n",
        "# Advance Level:\n",
        "def reverse_string(text):\n",
        "  return text[::-1]\n",
        "\n",
        "print(reverse_string(\"Python\"))  # nohtyP\n",
        "```\n"
      ],
      "metadata": {
        "id": "wXBcSSsjrFfS"
      }
    },
    {
      "cell_type": "markdown",
      "source": [
        "### Beginner Level:"
      ],
      "metadata": {
        "id": "GVteDDHOxQYj"
      }
    },
    {
      "cell_type": "code",
      "source": [
        "my_string = \"Hello, world!\""
      ],
      "metadata": {
        "id": "V2fPT4lbxLsH"
      },
      "execution_count": null,
      "outputs": []
    },
    {
      "cell_type": "code",
      "execution_count": null,
      "metadata": {
        "id": "O2KlQfbjpRUu"
      },
      "outputs": [],
      "source": [
        "print(my_string.upper())  # HELLO, WORLD!\n",
        "print(my_string.lower())  # hello, world!\n",
        "print(my_string.title())  # Hello, World!"
      ]
    },
    {
      "cell_type": "markdown",
      "source": [
        "### Graduate Level:"
      ],
      "metadata": {
        "id": "ReqKaTfApnEa"
      }
    },
    {
      "cell_type": "code",
      "source": [
        "first_name = \"John\"\n",
        "last_name = \"Doe\"\n",
        "full_name = f\"My name is {first_name} {last_name}.\"\n",
        "print(full_name)  # My name is John Doe."
      ],
      "metadata": {
        "id": "pp2olC9WxWC3"
      },
      "execution_count": null,
      "outputs": []
    },
    {
      "cell_type": "markdown",
      "source": [
        "### Advance Level:"
      ],
      "metadata": {
        "id": "PeAgG9tMxVyz"
      }
    },
    {
      "cell_type": "code",
      "source": [
        "def reverse_string(text):\n",
        "  return text[::-1]\n",
        "\n",
        "print(reverse_string(\"Python\"))  # nohtyP"
      ],
      "metadata": {
        "id": "mgqxm9rWxW-e"
      },
      "execution_count": null,
      "outputs": []
    }
  ]
}