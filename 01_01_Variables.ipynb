{
  "nbformat": 4,
  "nbformat_minor": 0,
  "metadata": {
    "colab": {
      "provenance": []
    },
    "kernelspec": {
      "name": "python3",
      "display_name": "Python 3"
    },
    "language_info": {
      "name": "python"
    }
  },
  "cells": [
    {
      "cell_type": "markdown",
      "source": [
        "#Variables and Data Types in Python"
      ],
      "metadata": {
        "id": "1H4YJEwmjfjB"
      }
    },
    {
      "cell_type": "markdown",
      "source": [
        "##Topics to be covered:\n",
        "Variables: Naming Conventions, Assigning Values, Variable Scope, Understanding Name Errors, The Concept of Variables as Labels\n",
        "Numbers: Integers, Floating-Point Numbers, Arithmetic Operations, Order of Operations, Underscores in Numerical Literals, Multiple Assignment, Type Conversion\n",
        "Strings: Defining Strings, String Concatenation, String Formatting, String Methods, Escape Sequences\n",
        "Booleans: Boolean Values, Boolean Operators, Comparison Operators\n",
        "\n"
      ],
      "metadata": {
        "id": "VYtmycYVjmCw"
      }
    },
    {
      "cell_type": "markdown",
      "source": [
        "##Beginner level:"
      ],
      "metadata": {
        "id": "pioUInqNj9wK"
      }
    },
    {
      "cell_type": "markdown",
      "source": [
        "### Assigning values to variables"
      ],
      "metadata": {
        "id": "_MC3xvvCkaEL"
      }
    },
    {
      "cell_type": "code",
      "execution_count": null,
      "metadata": {
        "id": "TUKzZCQNjQj5"
      },
      "outputs": [],
      "source": [
        "name = \"Alice\"\n",
        "age = 30"
      ]
    },
    {
      "cell_type": "code",
      "source": [
        "print(name)   #Prints Alice"
      ],
      "metadata": {
        "colab": {
          "base_uri": "https://localhost:8080/"
        },
        "id": "ZrVlS_5ukGV6",
        "outputId": "3fcca455-a49c-49af-ead2-5a436470731d"
      },
      "execution_count": null,
      "outputs": [
        {
          "output_type": "stream",
          "name": "stdout",
          "text": [
            "Alice\n"
          ]
        }
      ]
    },
    {
      "cell_type": "code",
      "source": [
        "print(age)    # Prints 30"
      ],
      "metadata": {
        "colab": {
          "base_uri": "https://localhost:8080/"
        },
        "id": "gKt7KSQJkmZ2",
        "outputId": "47656b19-d935-454e-f56f-acad84a181dc"
      },
      "execution_count": null,
      "outputs": [
        {
          "output_type": "stream",
          "name": "stdout",
          "text": [
            "30\n"
          ]
        }
      ]
    },
    {
      "cell_type": "markdown",
      "source": [
        "###Performing arithmetic operations"
      ],
      "metadata": {
        "id": "xNiQmXwilU-4"
      }
    },
    {
      "cell_type": "code",
      "source": [
        "number1 = 10\n",
        "number2 = 5\n",
        "sum = number1 + number2"
      ],
      "metadata": {
        "id": "yRPvx9-uk3dl"
      },
      "execution_count": null,
      "outputs": []
    },
    {
      "cell_type": "code",
      "source": [
        "print(sum)"
      ],
      "metadata": {
        "colab": {
          "base_uri": "https://localhost:8080/"
        },
        "id": "o_0yVktak6kZ",
        "outputId": "a4ed0c28-66eb-4304-ad74-729af31b2431"
      },
      "execution_count": null,
      "outputs": [
        {
          "output_type": "stream",
          "name": "stdout",
          "text": [
            "15\n"
          ]
        }
      ]
    },
    {
      "cell_type": "markdown",
      "source": [
        "### Creating a string"
      ],
      "metadata": {
        "id": "JVdmz64PlXRW"
      }
    },
    {
      "cell_type": "code",
      "source": [
        "message = \"Hello, world!\"\n",
        "print(message)"
      ],
      "metadata": {
        "colab": {
          "base_uri": "https://localhost:8080/"
        },
        "id": "LQW1cjLdk7-t",
        "outputId": "aca3c9a4-63e6-48ac-b3fe-add0fe8ef09e"
      },
      "execution_count": null,
      "outputs": [
        {
          "output_type": "stream",
          "name": "stdout",
          "text": [
            "Hello, world!\n"
          ]
        }
      ]
    },
    {
      "cell_type": "markdown",
      "source": [
        "### Checking a boolean value"
      ],
      "metadata": {
        "id": "kPHMFVvGlaWU"
      }
    },
    {
      "cell_type": "code",
      "source": [
        "is_active = True\n",
        "print(is_active)"
      ],
      "metadata": {
        "colab": {
          "base_uri": "https://localhost:8080/"
        },
        "id": "0x83F7mgk9v-",
        "outputId": "cade6205-2c11-4f1e-e482-b8bf99cd1088"
      },
      "execution_count": null,
      "outputs": [
        {
          "output_type": "stream",
          "name": "stdout",
          "text": [
            "True\n"
          ]
        }
      ]
    },
    {
      "cell_type": "markdown",
      "source": [
        "##Graduate level:"
      ],
      "metadata": {
        "id": "rNCp4ZSwldjk"
      }
    },
    {
      "cell_type": "markdown",
      "source": [
        "### Using multiple assignment"
      ],
      "metadata": {
        "id": "O-eIoYINmjar"
      }
    },
    {
      "cell_type": "code",
      "source": [
        "x, y, z = 1, 2, 3\n",
        "print(x, y, z)"
      ],
      "metadata": {
        "colab": {
          "base_uri": "https://localhost:8080/"
        },
        "id": "tvMy3Y51kRT-",
        "outputId": "38794320-128e-41e1-8c86-21d7c68ef623"
      },
      "execution_count": null,
      "outputs": [
        {
          "output_type": "stream",
          "name": "stdout",
          "text": [
            "1 2 3\n"
          ]
        }
      ]
    },
    {
      "cell_type": "markdown",
      "source": [
        "\n",
        "### Formatting strings"
      ],
      "metadata": {
        "id": "ixwaaj3jmkDe"
      }
    },
    {
      "cell_type": "code",
      "source": [
        "name = \"Bob\"\n",
        "age = 25\n",
        "formatted_message = f\"My name is {name} and I am {age} years old.\"\n",
        "print(formatted_message)\n"
      ],
      "metadata": {
        "colab": {
          "base_uri": "https://localhost:8080/"
        },
        "id": "jq6_ZFZzmX0K",
        "outputId": "5a843756-079c-42f7-8be2-ea796653422d"
      },
      "execution_count": null,
      "outputs": [
        {
          "output_type": "stream",
          "name": "stdout",
          "text": [
            "My name is Bob and I am 25 years old.\n"
          ]
        }
      ]
    },
    {
      "cell_type": "markdown",
      "source": [
        "### Using string methods"
      ],
      "metadata": {
        "id": "onrPX-a_mlJs"
      }
    },
    {
      "cell_type": "code",
      "source": [
        "text = \"This is a sample text.\"\n",
        "print(text.upper())  # Convert to uppercase\n",
        "print(text.lower())  # Convert to lowercase\n",
        "print(text.split()) # Split into a list of words"
      ],
      "metadata": {
        "colab": {
          "base_uri": "https://localhost:8080/"
        },
        "id": "Me1XOQ2dmbGr",
        "outputId": "ce945898-fdb2-4be8-c015-a0e65aa8d128"
      },
      "execution_count": null,
      "outputs": [
        {
          "output_type": "stream",
          "name": "stdout",
          "text": [
            "THIS IS A SAMPLE TEXT.\n",
            "this is a sample text.\n",
            "['This', 'is', 'a', 'sample', 'text.']\n"
          ]
        }
      ]
    },
    {
      "cell_type": "markdown",
      "source": [
        "##Advance level:"
      ],
      "metadata": {
        "id": "oOf-Qk3ZmmrR"
      }
    },
    {
      "cell_type": "markdown",
      "source": [
        "### Defining a function with type hints"
      ],
      "metadata": {
        "id": "wYYNhB2lmmf_"
      }
    },
    {
      "cell_type": "code",
      "source": [
        "def calculate_area(length: float, width: float) -> float:\n",
        "    \"\"\"Calculates the area of a rectangle.\"\"\"\n",
        "    return length * width"
      ],
      "metadata": {
        "id": "MCqXL-BQmc5E"
      },
      "execution_count": null,
      "outputs": []
    },
    {
      "cell_type": "code",
      "source": [
        "print(calculate_area(10,10))"
      ],
      "metadata": {
        "colab": {
          "base_uri": "https://localhost:8080/"
        },
        "id": "FTgmXYgTntZP",
        "outputId": "d31b210f-ce74-4982-e2a5-76ec94608073"
      },
      "execution_count": null,
      "outputs": [
        {
          "output_type": "stream",
          "name": "stdout",
          "text": [
            "100\n"
          ]
        }
      ]
    },
    {
      "cell_type": "markdown",
      "source": [
        "### Using a conditional statement with boolean operators"
      ],
      "metadata": {
        "id": "loz6UZ31mnkJ"
      }
    },
    {
      "cell_type": "code",
      "source": [
        "temperature = 25\n",
        "if temperature > 30:\n",
        "    print(\"It's hot!\")\n",
        "elif temperature < 10:\n",
        "    print(\"It's cold!\")\n",
        "else:\n",
        "    print(\"It's pleasant.\")"
      ],
      "metadata": {
        "colab": {
          "base_uri": "https://localhost:8080/"
        },
        "id": "9EgV82bome6w",
        "outputId": "99dbcbec-5260-4802-8139-caf0e4f5dd87"
      },
      "execution_count": null,
      "outputs": [
        {
          "output_type": "stream",
          "name": "stdout",
          "text": [
            "It's pleasant.\n"
          ]
        }
      ]
    },
    {
      "cell_type": "markdown",
      "source": [
        "### Working with complex numbers"
      ],
      "metadata": {
        "id": "PbIhe9q7mpXB"
      }
    },
    {
      "cell_type": "code",
      "source": [
        "complex_number = 3 + 4j\n",
        "print(complex_number.real)  # Access the real part - Prints 3.0\n",
        "print(complex_number.imag)  # Access the imaginary part - Prints 4.0"
      ],
      "metadata": {
        "colab": {
          "base_uri": "https://localhost:8080/"
        },
        "id": "ffHCy7JBmhas",
        "outputId": "a9c7a5fd-a9d7-4114-e2ea-1c2de11ae47b"
      },
      "execution_count": null,
      "outputs": [
        {
          "output_type": "stream",
          "name": "stdout",
          "text": [
            "3.0\n",
            "4.0\n"
          ]
        }
      ]
    }
  ]
}